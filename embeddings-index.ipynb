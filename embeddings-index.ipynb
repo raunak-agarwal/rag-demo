{
 "cells": [
  {
   "cell_type": "markdown",
   "id": "5061b2cb",
   "metadata": {},
   "source": [
    "This notebook provides code to do the following:\n",
    "1. Download the wikipedia dataset and dump the first 5 million rows into a json file\n",
    "2. Encode the texts in this json file using BAAI/bge-base-en-v1.5 and save the embeddings\n",
    "3. Build an index using AutoFaiss\n",
    "4. Search using Faiss"
   ]
  },
  {
   "cell_type": "code",
   "execution_count": null,
   "id": "e33d2d7e-5359-485b-a69e-24ae7f31288b",
   "metadata": {},
   "outputs": [],
   "source": [
    "# !pip install -U datasets autofaiss\n",
    "# !pip install git+https://github.com/UKPLab/sentence-transformers.git"
   ]
  },
  {
   "cell_type": "code",
   "execution_count": 1,
   "id": "f9063ece-e5d0-426d-a92b-5a517cda804b",
   "metadata": {},
   "outputs": [
    {
     "name": "stderr",
     "output_type": "stream",
     "text": [
      "/home/raunak/micromamba/envs/rag-demo/lib/python3.12/site-packages/tqdm/auto.py:21: TqdmWarning: IProgress not found. Please update jupyter and ipywidgets. See https://ipywidgets.readthedocs.io/en/stable/user_install.html\n",
      "  from .autonotebook import tqdm as notebook_tqdm\n"
     ]
    }
   ],
   "source": [
    "from datasets import load_dataset\n",
    "import time\n",
    "from sentence_transformers import SentenceTransformer\n",
    "import pandas as pd\n",
    "import numpy as np\n",
    "import torch\n",
    "# from tqdm import tqdm\n",
    "import os\n",
    "import shutil\n",
    "import faiss\n",
    "\n",
    "device  = \"cuda\"\n",
    "batch_size = 1200\n",
    "num_proc=12\n"
   ]
  },
  {
   "cell_type": "markdown",
   "id": "b388599c",
   "metadata": {},
   "source": [
    "#### Encoding Texts"
   ]
  },
  {
   "cell_type": "code",
   "execution_count": 2,
   "id": "9bdc1b4c-064e-4cf8-b923-d6141a289ea3",
   "metadata": {},
   "outputs": [],
   "source": [
    "model = SentenceTransformer(\"BAAI/bge-base-en-v1.5\", trust_remote_code=True)\n",
    "model.max_seq_length = 256\n",
    "\n",
    "if device == \"cuda\":\n",
    "    model = torch.compile(model)\n",
    "    \n",
    "pool = model.start_multi_process_pool(target_devices=[\"cuda:0\", \"cuda:1\"])\n"
   ]
  },
  {
   "cell_type": "code",
   "execution_count": null,
   "id": "f3e191d8-1702-489f-b775-da14e72570ff",
   "metadata": {},
   "outputs": [],
   "source": [
    "data = load_dataset(f\"Cohere/wikipedia-22-12\", 'en', split='train', streaming=False, num_proc=num_proc)\n",
    "print(len(data))"
   ]
  },
  {
   "cell_type": "code",
   "execution_count": null,
   "id": "c3462b03-1a20-40c4-8f86-d74d67d90cd2",
   "metadata": {},
   "outputs": [],
   "source": [
    "for i, x in enumerate(data):\n",
    "    print(x)\n",
    "    text = x['text']\n",
    "    print(f\"{len(text.split())} : {text}\")\n",
    "    print()\n",
    "    if i == 2:\n",
    "        break"
   ]
  },
  {
   "cell_type": "code",
   "execution_count": null,
   "id": "1a0f1106-5d96-422d-a413-8b703174ead8",
   "metadata": {},
   "outputs": [],
   "source": [
    "data = data.select(range(5_000_000)) # Select the top 5 million rows\n",
    "data"
   ]
  },
  {
   "cell_type": "code",
   "execution_count": 9,
   "id": "0911c81a-b0bb-4a49-9738-82ef92761f32",
   "metadata": {},
   "outputs": [],
   "source": [
    "data = data.to_pandas()[['title', 'text']]\n",
    "data['combined'] = \"Page Title: \" + data['title'].str.strip() + \"\\n\" + data['text'].str.strip()\n",
    "data = data.drop(columns=['title', 'text'])\n",
    "data = data.rename(columns={'combined': 'text'})\n",
    "data.to_json(\"texts.json\", orient=\"records\", lines=True)\n",
    "\n",
    "del data"
   ]
  },
  {
   "cell_type": "code",
   "execution_count": 2,
   "id": "7652db16-4bdf-4bc4-a885-456e9b58fe63",
   "metadata": {},
   "outputs": [
    {
     "data": {
      "text/plain": [
       "(5000000,\n",
       " ['Page Title: Deaths in 2022\\nThe following notable deaths occurred in 2022. Names are reported under the date of death, in alphabetical order. A typical entry reports information in the following sequence:',\n",
       "  'Page Title: YouTube\\nYouTube is a global online video sharing and social media platform headquartered in San Bruno, California. It was launched on February 14, 2005, by Steve Chen, Chad Hurley, and Jawed Karim. It is owned by Google, and is the second most visited website, after Google Search. YouTube has more than 2.5 billion monthly users who collectively watch more than one billion hours of videos each day. , videos were being uploaded at a rate of more than 500 hours of content per minute.',\n",
       "  \"Page Title: YouTube\\nIn October 2006, YouTube was bought by Google for $1.65\\xa0billion. Google's ownership of YouTube expanded the site's business model, expanding from generating revenue from advertisements alone, to offering paid content such as movies and exclusive content produced by YouTube. It also offers YouTube Premium, a paid subscription option for watching content without ads. YouTube also approved creators to participate in Google's AdSense program, which seeks to generate more revenue for both parties. YouTube reported revenue of $19.8 billion in 2020. In 2021, YouTube's annual advertising revenue increased to $28.8 billion.\",\n",
       "  'Page Title: YouTube\\nSince its purchase by Google, YouTube has expanded beyond the core website into mobile apps, network television, and the ability to link with other platforms. Video categories on YouTube include music videos, video clips, news, short films, feature films, documentaries, audio recordings, movie trailers, teasers, live streams, vlogs, and more. Most content is generated by individuals, including collaborations between YouTubers and corporate sponsors. Established media corporations such as Disney, Paramount, and Warner Bros. Discovery have also created and expanded their corporate YouTube channels to advertise to a larger audience.',\n",
       "  \"Page Title: YouTube\\nYouTube has had an unprecedented social impact, influencing popular culture, internet trends, and creating multimillionaire celebrities. Despite all its growth and success, YouTube has been widely criticized. Criticism of YouTube includes the website being used to facilitate the spread of misinformation, copyright issues, routine violations of its users' privacy, enabling censorship, and endangering child safety and wellbeing.\"])"
      ]
     },
     "execution_count": 2,
     "metadata": {},
     "output_type": "execute_result"
    }
   ],
   "source": [
    "texts = pd.read_json(f\"texts.json\", orient=\"records\", lines=True)\n",
    "texts = texts['text'].to_list()\n",
    "\n",
    "len(texts), texts[:5]"
   ]
  },
  {
   "cell_type": "code",
   "execution_count": 4,
   "id": "5252c147-d061-4d1e-b8cb-f9c061996f1b",
   "metadata": {},
   "outputs": [
    {
     "data": {
      "application/vnd.jupyter.widget-view+json": {
       "model_id": "8a9143cf200d412a8c6de504f84182c8",
       "version_major": 2,
       "version_minor": 0
      },
      "text/plain": [
       "Chunks:   0%|          | 0/1000 [00:00<?, ?it/s]"
      ]
     },
     "metadata": {},
     "output_type": "display_data"
    },
    {
     "data": {
      "text/plain": [
       "(5000000, 768)"
      ]
     },
     "execution_count": 4,
     "metadata": {},
     "output_type": "execute_result"
    }
   ],
   "source": [
    "# embeddings = model.encode(texts, normalize_embeddings=True, batch_size=batch_size, show_progress_bar=True)\n",
    "embeddings = model.encode_multi_process(texts, \n",
    "                                        normalize_embeddings=True, \n",
    "                                        show_progress_bar=True, \n",
    "                                        batch_size=batch_size, \n",
    "                                        pool=pool)\n",
    "model.stop_multi_process_pool(pool)\n",
    "embeddings.shape"
   ]
  },
  {
   "cell_type": "code",
   "execution_count": 5,
   "id": "9a10fa60-1005-432c-96f0-f9bc51b7e1df",
   "metadata": {},
   "outputs": [],
   "source": [
    "np.save(f\"embeddings.npy\", embeddings)"
   ]
  },
  {
   "cell_type": "code",
   "execution_count": 6,
   "id": "4d6a45c8-df6a-45c2-9976-dcbaf9782fb4",
   "metadata": {},
   "outputs": [
    {
     "data": {
      "text/plain": [
       "(5000000, 768)"
      ]
     },
     "execution_count": 6,
     "metadata": {},
     "output_type": "execute_result"
    }
   ],
   "source": [
    "embeddings = np.load(f\"embeddings.npy\")\n",
    "embeddings.shape"
   ]
  },
  {
   "cell_type": "markdown",
   "id": "750453da",
   "metadata": {},
   "source": [
    "#### Indexing using AutoFaiss\n",
    "\n",
    "Run this in the terminal\n",
    "\n",
    "```bash\n",
    "!autofaiss build_index --embeddings=. \\\n",
    "                    --index_path=\"knn.index\" \\\n",
    "                    --index_infos_path=\"infos.json\" \\\n",
    "                    --metric_type=ip \\\n",
    "                    --max_index_query_time_ms=20 \\\n",
    "                    --max_index_memory_usage=12GB\n",
    "```"
   ]
  },
  {
   "cell_type": "markdown",
   "id": "bc8cc23c",
   "metadata": {},
   "source": [
    "```\n",
    "2024-09-10 19:18:47,510 [INFO]: Using 255 omp threads (processes), consider increasing --nb_cores if you have more\n",
    "2024-09-10 19:18:47,511 [INFO]: Launching the whole pipeline 09/10/2024, 19:18:47\n",
    "2024-09-10 19:18:47,511 [INFO]: Reading total number of vectors and dimension 09/10/2024, 19:18:47\n",
    "100%|███████████████████████████████████████████████████████████████████████████████████████████████████████████████████████| 1/1 [00:00<00:00, 953.68it/s]\n",
    "2024-09-10 19:18:47,553 [INFO]: There are 5000000 embeddings of dim 768\n",
    "2024-09-10 19:18:47,554 [INFO]: >>> Finished \"Reading total number of vectors and dimension\" in 0.0425 secs\n",
    "2024-09-10 19:18:47,554 [INFO]:         Compute estimated construction time of the index 09/10/2024, 19:18:47\n",
    "2024-09-10 19:18:47,554 [INFO]:                 -> Train: 16.7 minutes\n",
    "2024-09-10 19:18:47,554 [INFO]:                 -> Add: 42.9 seconds\n",
    "2024-09-10 19:18:47,554 [INFO]:                 Total: 17.4 minutes\n",
    "2024-09-10 19:18:47,554 [INFO]:         >>> Finished \"Compute estimated construction time of the index\" in 0.0002 secs\n",
    "2024-09-10 19:18:47,554 [INFO]:         Checking that your have enough memory available to create the index 09/10/2024, 19:18:47\n",
    "2024-09-10 19:18:47,555 [INFO]: 3.1GB of memory will be needed to build the index (more might be used if you have more)\n",
    "2024-09-10 19:18:47,556 [INFO]:         >>> Finished \"Checking that your have enough memory available to create the index\" in 0.0011 secs\n",
    "2024-09-10 19:18:47,556 [INFO]:         Selecting most promising index types given data characteristics 09/10/2024, 19:18:47\n",
    "2024-09-10 19:18:47,556 [INFO]:         >>> Finished \"Selecting most promising index types given data characteristics\" in 0.0001 secs\n",
    "2024-09-10 19:18:47,556 [INFO]:         Creating the index 09/10/2024, 19:18:47\n",
    "2024-09-10 19:18:47,556 [INFO]:                 -> Instanciate the index OPQ256_1024,IVF16384_HNSW32,PQ256x8 09/10/2024, 19:18:47\n",
    "2024-09-10 19:18:47,558 [INFO]:                 >>> Finished \"-> Instanciate the index OPQ256_1024,IVF16384_HNSW32,PQ256x8\" in 0.0015 secs\n",
    "2024-09-10 19:18:47,558 [INFO]: The index size will be approximately 1.3GB\n",
    "2024-09-10 19:18:47,558 [INFO]:                 -> Extract training vectors 09/10/2024, 19:18:47\n",
    "2024-09-10 19:18:47,558 [INFO]: Will use 1638400 vectors to train the index, that will use 7.9GB of memory\n",
    " 99%|██████████████████████████████████████████████████████████████████████████████████████████████████████████████████▊ | 100/101 [00:01<00:00, 56.96it/s]\n",
    "2024-09-10 19:18:49,320 [INFO]:                 >>> Finished \"-> Extract training vectors\" in 1.7621 secs\n",
    "2024-09-10 19:18:49,320 [INFO]:                 -> Training the index with 1638400 vectors of dim 768 09/10/2024, 19:18:49\n",
    "2024-09-10 19:38:08,113 [INFO]:                 >>> Finished \"-> Training the index with 1638400 vectors of dim 768\" in 1158.7928 secs\n",
    "2024-09-10 19:38:08,120 [INFO]:                 -> Adding the vectors to the index 09/10/2024, 19:38:08\n",
    "2024-09-10 19:38:08,121 [INFO]: The memory available for adding the vectors is 30.7GB(total available - used by the index)\n",
    "2024-09-10 19:38:08,121 [INFO]: Using a batch size of 325520 (memory overhead 953.7MB)\n",
    "100%|████████████████████████████████████████████████████████████████████████████████████████████████████████████████████| 308/308 [03:22<00:00,  1.52it/s]\n",
    "2024-09-10 19:41:30,186 [INFO]:         Computing best hyperparameters for index knn.index 09/10/2024, 19:41:30\n",
    "2024-09-10 19:41:41,377 [INFO]:         >>> Finished \"Computing best hyperparameters for index knn.index\" in 11.1903 secs\n",
    "2024-09-10 19:41:41,377 [INFO]: The best hyperparameters are: nprobe=56,efSearch=112,ht=2048\n",
    "2024-09-10 19:41:41,377 [INFO]:         Compute fast metrics 09/10/2024, 19:41:41\n",
    "  0%|                                                                                                                                | 0/1 [00:00<?, ?it/s]\n",
    "2024-09-10 19:41:52,371 [INFO]:         >>> Finished \"Compute fast metrics\" in 10.9933 secs\n",
    "2024-09-10 19:41:52,371 [INFO]:         Saving the index on local disk 09/10/2024, 19:41:52\n",
    "2024-09-10 19:41:53,057 [INFO]:         >>> Finished \"Saving the index on local disk\" in 0.6861 secs\n",
    "2024-09-10 19:41:53,058 [INFO]:                 >>> Finished \"-> Adding the vectors to the index\" in 224.9378 secs\n",
    "2024-09-10 19:41:53,059 [INFO]: {\n",
    "2024-09-10 19:41:53,059 [INFO]:         index_key: OPQ256_1024,IVF16384_HNSW32,PQ256x8\n",
    "2024-09-10 19:41:53,059 [INFO]:         index_param: nprobe=56,efSearch=112,ht=2048\n",
    "2024-09-10 19:41:53,059 [INFO]:         index_path: knn.index\n",
    "2024-09-10 19:41:53,059 [INFO]:         size in bytes: 1395890992\n",
    "2024-09-10 19:41:53,059 [INFO]:         avg_search_speed_ms: 17.881135380620044\n",
    "2024-09-10 19:41:53,059 [INFO]:         99p_search_speed_ms: 67.61361030643457\n",
    "2024-09-10 19:41:53,059 [INFO]:         reconstruction error %: 8.969146758317947\n",
    "2024-09-10 19:41:53,059 [INFO]:         nb vectors: 5000000\n",
    "2024-09-10 19:41:53,059 [INFO]:         vectors dimension: 768\n",
    "2024-09-10 19:41:53,059 [INFO]:         compression ratio: 11.003724565907937\n",
    "2024-09-10 19:41:53,059 [INFO]: }\n",
    "2024-09-10 19:41:53,059 [INFO]:         >>> Finished \"Creating the index\" in 1385.5028 secs\n",
    "2024-09-10 19:41:53,059 [INFO]: >>> Finished \"Launching the whole pipeline\" in 1385.5478 secs\n",
    "(<faiss.swigfaiss_avx2.IndexPreTransform; proxy of <Swig Object of type 'faiss::IndexPreTransform *' at 0x7f2ae0dee430> >, {'index_key': 'OPQ256_1024,IVF16384_HNSW32,PQ256x8', 'index_param': 'nprobe=56,efSearch=112,ht=2048', 'index_path': 'knn.index', 'size in bytes': 1395890992, 'avg_search_speed_ms': 17.881135380620044, '99p_search_speed_ms': 67.61361030643457, 'reconstruction error %': 8.969146758317947, 'nb vectors': 5000000, 'vectors dimension': 768, 'compression ratio': 11.003724565907937})\n",
    "```"
   ]
  },
  {
   "cell_type": "markdown",
   "id": "807f2307",
   "metadata": {},
   "source": [
    "#### Searching using Faiss"
   ]
  },
  {
   "cell_type": "code",
   "execution_count": 3,
   "id": "40b8455c-6ecc-456f-abf5-3032fc103004",
   "metadata": {},
   "outputs": [],
   "source": [
    "my_index = faiss.read_index(\"knn.index\")"
   ]
  },
  {
   "cell_type": "code",
   "execution_count": 7,
   "id": "d0fe8f98-62fa-4cb1-9b8c-48ae35222af4",
   "metadata": {},
   "outputs": [
    {
     "name": "stdout",
     "output_type": "stream",
     "text": [
      "(2, 768)\n"
     ]
    }
   ],
   "source": [
    "# query_vector = model.encode([\"2019 england vs nz final\"])\n",
    "query_vector = np.random.rand(2, 768)\n",
    "print(query_vector.shape)"
   ]
  },
  {
   "cell_type": "code",
   "execution_count": 8,
   "id": "6c331873-9a73-4c64-bddd-691c19a1645a",
   "metadata": {},
   "outputs": [
    {
     "name": "stdout",
     "output_type": "stream",
     "text": [
      "Top 50 elements in the dataset for max inner product search:\n",
      "1: Vector number 824959 with distance 0.8938260078430176\n",
      "2: Vector number 4213526 with distance 0.8907451033592224\n",
      "3: Vector number 151502 with distance 0.8811548352241516\n",
      "4: Vector number 809290 with distance 0.8779027462005615\n",
      "5: Vector number 451094 with distance 0.8758558034896851\n",
      "6: Vector number 115634 with distance 0.8739829659461975\n",
      "7: Vector number 607017 with distance 0.8587794303894043\n",
      "8: Vector number 2788736 with distance 0.8580100536346436\n",
      "9: Vector number 735933 with distance 0.8552708625793457\n",
      "10: Vector number 406645 with distance 0.8550938963890076\n",
      "11: Vector number 2681531 with distance 0.8511126041412354\n",
      "12: Vector number 4941162 with distance 0.8498995304107666\n",
      "13: Vector number 1318268 with distance 0.8495214581489563\n",
      "14: Vector number 1059932 with distance 0.8490103483200073\n",
      "15: Vector number 2737127 with distance 0.8378748893737793\n",
      "16: Vector number 4540061 with distance 0.8353170156478882\n",
      "17: Vector number 1415110 with distance 0.8342996835708618\n",
      "18: Vector number 392212 with distance 0.8296559453010559\n",
      "19: Vector number 4213534 with distance 0.8258612155914307\n",
      "20: Vector number 735922 with distance 0.8238197565078735\n",
      "21: Vector number 204738 with distance 0.8235756158828735\n",
      "22: Vector number 4721093 with distance 0.8233602643013\n",
      "23: Vector number 2864102 with distance 0.8225515484809875\n",
      "24: Vector number 1059965 with distance 0.8217998147010803\n",
      "25: Vector number 12303 with distance 0.8196145296096802\n",
      "26: Vector number 1059944 with distance 0.8185476064682007\n",
      "27: Vector number 1326266 with distance 0.8181719183921814\n",
      "28: Vector number 4573058 with distance 0.8165448307991028\n",
      "29: Vector number 115663 with distance 0.8146981000900269\n",
      "30: Vector number 3778225 with distance 0.8113692998886108\n",
      "31: Vector number 204717 with distance 0.8106361031532288\n",
      "32: Vector number 983246 with distance 0.8101980090141296\n",
      "33: Vector number 118277 with distance 0.808029294013977\n",
      "34: Vector number 3782001 with distance 0.807506263256073\n",
      "35: Vector number 2924434 with distance 0.8044442534446716\n",
      "36: Vector number 2864081 with distance 0.8042038679122925\n",
      "37: Vector number 872910 with distance 0.8013417720794678\n",
      "38: Vector number 151490 with distance 0.8002876043319702\n",
      "39: Vector number 1228615 with distance 0.7991225719451904\n",
      "40: Vector number 4573057 with distance 0.7988713383674622\n",
      "41: Vector number 3674895 with distance 0.797013521194458\n",
      "42: Vector number 4756892 with distance 0.7965277433395386\n",
      "43: Vector number 1192592 with distance 0.7941887378692627\n",
      "44: Vector number 3708 with distance 0.7940638065338135\n",
      "45: Vector number 2146450 with distance 0.7928066253662109\n",
      "46: Vector number 3333361 with distance 0.7923324108123779\n",
      "47: Vector number 218719 with distance 0.7904015183448792\n",
      "48: Vector number 503686 with distance 0.7902532815933228\n",
      "49: Vector number 997115 with distance 0.7899531126022339\n",
      "50: Vector number 1071074 with distance 0.787986159324646\n"
     ]
    }
   ],
   "source": [
    "k = 50\n",
    "distances, indices = my_index.search(query_vector, k)\n",
    "\n",
    "print(f\"Top {k} elements in the dataset for max inner product search:\")\n",
    "for i, (dist, indice) in enumerate(zip(distances[0], indices[0])):\n",
    "  print(f\"{i+1}: Vector number {indice:4} with distance {dist}\")"
   ]
  },
  {
   "cell_type": "code",
   "execution_count": 9,
   "id": "94bfbbb6-c7c7-411b-9dcb-2bbe0276bc5b",
   "metadata": {},
   "outputs": [
    {
     "name": "stdout",
     "output_type": "stream",
     "text": [
      "Page Title: Child's Play (franchise)\n",
      "Mancini confirmed his intent to make the crossover film, describing it as \"cool and doable\", saying that the film would be titled \"Child's Play on Elm Street\" and that he was in discussion with New Line Cinema about the film. The foundation for a crossover film was previously laid in \"Bride of Chucky\", in which Freddy Krueger's bladed glove had appeared in the Lockport police evidence depository at the beginning of the film.\n",
      "\n",
      "Page Title: Resident Evil: The Umbrella Chronicles\n",
      "\"The Umbrella Chronicles\" encompasses several scenarios, which are based on various plot elements from the \"Resident Evil\" series. The game's first three scenarios, \"Train Derailment\", \"The Mansion Incident\", and \"Raccoon's Destruction\", are set within Raccoon City, or its surrounding area, in 1998. The final scenario, which is based on new material, is set in Russia, taking place in 2003. The game features nine playable characters from previous \"Resident Evil\" games, including Rebecca Chambers, Billy Coen, Chris Redfield, Jill Valentine, Carlos Oliveira, Albert Wesker, Ada Wong, Richard Aiken, and Hunk.\n",
      "\n",
      "Page Title: Resident Evil (film series)\n",
      "In January 2019, Netflix was in development of a series based upon the \"Resident Evil\" franchise. At the time, \"Deadline Hollywood\" reported that the series was set in the universe of the Paul W. S. Anderson's film series, but when the series was ordered in 2020, Andrew Dabb was hired and confirmed that the series will not be linked to the film series.\n",
      "\n",
      "Page Title: Resident Evil (1996 video game)\n",
      "After the original \"Resident Evil\" video game sparked a renewed interest in the zombie genre, it was followed by zombie films such as \"28 Days Later\", \"Dawn of the Dead\" (2004), \"Shaun of the Dead\", \"28 Weeks Later\" (2007), \"Zombieland\" (2009), \"Cockneys vs Zombies\" (2012), and \"World War Z\" (2013), as well as zombie-themed graphic novels and television shows such as \"The Walking Dead\" and \"The Returned\", and books such as \"World War Z\" (2006), \"Pride and Prejudice and Zombies\" (2009) and \"Warm Bodies\" (2010). The \"Resident Evil\" film adaptations also went on to become the highest-grossing film series based on video games, after they grossed more than worldwide. The zombie revival trend was popular up until the mid-2010s, before zombie films declined in popularity by the late 2010s.\n",
      "\n",
      "Page Title: 7-Eleven\n",
      "Supermarket News ranked 7-Eleven's North American operations No. 11 in the 2007 \"Top 75 North American Food Retailers,\" based on the 2006 fiscal year estimated sales of US$15.0 billion. Based on the 2005 revenue, 7-Eleven is the 24th largest retailer in the United States. , 8,144 7-Eleven franchised units exist across the United States. Franchise fees range between US$10,000 – $1,000,000 and the ongoing royalty rate varies. 7-Eleven America has its headquarters in the Cypress Waters development in Irving, Texas. Small-size Slurpees are free on \"7-Eleven Day\", on July 11. This holiday first became widely celebrated on July 11, 2008, when first discovered by J. Brabank and C. Johnson. One exception is 2020, when the COVID-19 pandemic caused that year's cancellation. 7 Rewards members got a free medium Slurpee in their app instead.\n",
      "\n",
      "Page Title: Google Play\n",
      "On September 23, 2019, Google launched its Google Play Pass games and apps subscription service in the US. As of September 2019, subscribers could access the games and apps without ads and in-app purchases. The program is invitation-only for app developers, who then can integrate the service into their existing apps.\n",
      "\n",
      "Page Title: Jason Voorhees\n",
      "\"Freddy vs. Jason\" (2003) is a crossover film in which Jason battles \"A Nightmare on Elm Street\"'s villain Freddy Krueger (Robert Englund), a supernatural killer who murders people in their dreams. Krueger has grown weak, as people in his home town of Springwood have suppressed their fear of him. Freddy, who is impersonating Jason's mother (Paula Shaw), resurrects Jason (Ken Kirzinger) from Hell and sends him to Springwood to cause panic and fear. Jason accomplishes this, but refuses to stop killing. A battle ensues in both the dream world and Crystal Lake. The identity of the winner is left ambiguous, as Jason surfaces from the lake holding Freddy's severed head, which winks and laughs.\n",
      "\n",
      "Page Title: Cerina Vincent\n",
      "From 2016 to 2018, Vincent played Suzy Diaz, mother to seven children, on the Disney Channel series \"Stuck in the Middle\". The series ran for three seasons.\n",
      "\n",
      "Page Title: A Nightmare on Elm Street (franchise)\n",
      "In September 2019, it was announced that film rights had reverted back to Wes Craven's estate. By November, the estate had begun work on future project pitches for new \"A Nightmare on Elm Street\" projects; with pitches received for both feature film and a potential HBO Max series, with the intent to have Robert Englund reprise his role as Freddy Krueger.\n",
      "\n",
      "Page Title: Mom (TV series)\n",
      "\"Mom\" went into syndication in late 2017. It airs on local affiliates, as well as on FX, TV Land, Paramount Network, Nick at Nite, and CMT.\n",
      "\n",
      "Page Title: Paramount Media Networks\n",
      "Channel was originally launched under Warner-Amex Satellite Entertainment and tested as Pinwheel until 1979, then was officially launched as Nickelodeon.\n",
      "\n",
      "Page Title: Paramount Television Studios\n",
      "On March 4, 2013, Viacom president/CEO Philippe Dauman announced that Paramount opted to produce a television series based on one of their films. The show would allow Paramount to “get back, with very little investment, into the television production business.” Hours later, Paramount chairman/CEO Brad Grey announced that the studio was co-producing a CBS television series based on \"Beverly Hills Cop\" with Sony Pictures Television; however, the pilot did not move forward.\n",
      "\n",
      "Page Title: Fritz Lang\n",
      "Lang left Berlin for good on July 31, 1933, four months after his meeting with Goebbels and his initial departure. He moved to Paris, having divorced Thea von Harbou, who stayed behind, earlier in 1933.\n",
      "\n",
      "Page Title: Call of Duty: WWII\n",
      "The game's campaign is set in the European theatre and is centered around a squad in the 1st Infantry Division following their battles on the Western Front and set mainly in the historical events of Operation Overlord. The player controls Ronald \"Red\" Daniels, who has squadmates who can supply the player with extra ammunition, health, or grenades as well as a targeted grenade and target spotting; none of these are automatically replenished in the campaign. The multiplayer mode features map locations not seen in the campaign. The mode also features the new Divisions system, replacing the create-a-class system that previous games in the series used. A social hub, named Headquarters, was also implemented into the game, allowing for players to interact with each other.\n",
      "\n",
      "Page Title: Melbourne, Florida\n",
      "The city of Melbourne contains over of city park land, including 17 community parks, 13 neighborhood parks, and five smaller city parks.\n",
      "\n",
      "Page Title: Hotel (American TV series)\n",
      "The distribution rights to the series were originally owned by Warner Bros. Pictures Distribution, until 2006 when CBS Paramount Network Television bought the television libraries and properties of Spelling Entertainment Inc. from Paramount Pictures Domestic Distribution and Viacom Enterprises.\n",
      "\n",
      "Page Title: All My Children\n",
      "ABC regained the rights to \"All My Children\" in December 2016 following the dismissal of a lawsuit from Prospect Park against the broadcast network.\n",
      "\n",
      "Page Title: Friday the 13th (franchise)\n",
      "\"Jason X\" (2001) takes place in the future, when Jason has again been inexplicably resurrected. A scientist, Rowan LaFontaine (Lexa Doig), decides that cryonic suspension is the only method of stopping him, but Jason breaks free and kills the army personnel guarding him before he can be again imprisoned. Rowan manages to lure Jason into the cryo‑chamber, but he ruptures the tank and freezes both himself and Rowan. Over 400 years later, a team of students studying Earth discover Jason's body and take it into space. Upon being thawed by the team, he proceeds to murder everyone aboard the spacecraft. He is seemingly killed, but is then resurrected via nanotechnology as a cyborg version of himself. Finally, he is ejected into space and incinerated by Earth Two's atmosphere, his mask falling to the bottom of a lake. The next \"Friday the 13th\" film, \"Freddy vs. Jason\" (2003), was a crossover with \"A Nightmare on Elm Street\". Set in the contemporary period, Freddy Krueger (Robert Englund) resurrects Jason (Ken Kirzinger) and sends him to Springwood hoping that he will create enough fear among the residents that Freddy will be strong enough to invade their dreams. Jason accomplishes this but refuses to stop killing. A battle ensues both in the dream-world and at Crystal Lake. The outcome is left ambiguous, as Jason surfaces from the lake holding Freddy's severed head, which winks and laughs.\n",
      "\n",
      "Page Title: Resident Evil: The Umbrella Chronicles\n",
      "\"Resident Evil: The Umbrella Chronicles\" was released in late 2007. An extensive line of tie-in products was created to promote the release of Capcom's on-rails shooter and to expand its storyline. This includes a graphic novel, several spin-off novels, and an official soundtrack release.\n",
      "\n",
      "Page Title: A Nightmare on Elm Street (franchise)\n",
      "In 2003, New Line pitted \"Friday the 13th's\" Jason Voorhees against Freddy Krueger. The film, \"Freddy vs. Jason\", explains that Freddy Krueger has grown weak as people in Springwood, his home, have suppressed their fear of him. Freddy, who is impersonating Pamela Voorhees, the mother of Jason Voorhees, sends Jason (Ken Kirzinger) to Springwood to cause panic and fear. Jason accomplishes this, but refuses to stop killing. A battle ensues in both the dream world and Crystal Lake between the two villains. The winner is left ambiguous, as Jason surfaces from the lake holding Freddy's severed head, which winks and laughs.\n",
      "\n",
      "Page Title: George S. Patton\n",
      "On December 24, Patton was buried at the Luxembourg American Cemetery and Memorial in the Hamm district of Luxembourg City, alongside some wartime casualties of the Third Army, in accordance with his request to \"be buried with [his] men.\" While he was initially buried in the middle of a plot like every other service member, the large number of visitors to his grave damaged the cemetery grounds, and his remains were moved to their current location at the front of the grave plots.\n",
      "\n",
      "Page Title: Kent, Washington\n",
      "Kent's park system includes 73 parks, miniparks, playfields, skateparks, greenbelts, and other related facilities. These parks range in size from as little as to over .\n",
      "\n",
      "Page Title: Günther von Kluge\n",
      "In the last days of July, the German army in Normandy had been reduced to such a poor state by Allied offensives that Kluge could no longer sustain a viable defensive position in Normandy; he had no prospects for reinforcements in the wake of Operation Bagration, the Soviet summer offensive against Army Group Centre, and very few Germans believed they could salvage victory. Between 1 and 4 August, seven divisions from the U.S. Third Army, under Lieutenant General George S. Patton, advanced rapidly through Avranches and over the bridge at Pontaubault into Brittany.\n",
      "\n",
      "Page Title: Call of Duty: WWII\n",
      "\"Call of Duty: WWII\" offers four downloadable content map packs, each containing three regular multiplayer maps, one War map, and one Nazi Zombies map. Players who purchase the Season Pass, which grant access to all four map packs on release, also receive Carentan, a remake of the multiplayer map of the same name featured in \"Call of Duty\" and \"Call of Duty 2\".\n",
      "\n",
      "Page Title: Breaking Bad\n",
      "Several attempts to create a real restaurant concept after Los Pollos Hermanos have occurred, most notably in 2019, Family Style, Inc., a chain of restaurants in California, Nevada, and Illinois, which secured rights from Sony and with Gilligan's blessing to sell chicken dinners through Uber Eats under the name and branding \"Los Pollos Hermanos\" in a three-year deal.\n",
      "\n",
      "Page Title: Call of Duty: WWII\n",
      "\"WWII\" includes a zombies cooperative game mode, similar to previous entries by Treyarch and Infinity Ward, with its own original storyline set in alternate history and separate from the campaign. The game mode, dubbed \"Nazi Zombies\" in reference to its first iteration in Treyarch's \"\", is also set in the events of World War II, as the Third Reich makes a desperate attempt to turn the tide of the war by creating an undead army in the final stages of the war. While the mode is based on science-fiction and is a fictional take on the war, Sledgehammer Games co-founder Michael Condrey said that the story of the mode is based on some \"real events\". He also revealed that the experience is similar to \"Dead Space\", a third person shooter horror video game directed by both Condrey and Schofield during their work time at EA Redwood Shores.\n",
      "\n",
      "Page Title: Green card\n",
      "Applications for permanent resident cards (green cards) were decided by the Immigration and Naturalization Service (INS) until 2003 when the INS was abolished and replaced by the current Department of Homeland Security (DHS). The whole process may take several years, depending on the type of immigrant category and the country of chargeability. An immigrant usually has to go through a three-step process to get permanent residency:\n",
      "\n",
      "Page Title: Parks and Recreation (season 7)\n",
      "This season differs from any other season of \"Parks and Recreation\", in that it details a much larger story arc for the characters, showcasing their growth over the course of the show. Set in 2017, three years after the events of Season 6, the season includes Leslie Knope's (Amy Poehler) new career as Regional Director of the National Park Service, in addition to her two-year-long fallout with former boss Ron Swanson (Nick Offerman). Also included is the rise of fictional tech company Gryzzl taking over Pawnee, Leslie's plea to Sweetums for a Pawnee National Park, and the eventual career departures of the gang from the Parks department.\n",
      "\n",
      "Page Title: Google Play\n",
      "Since August 2019, all new and updated Google Play apps must have 64-bit binaries, with some exceptions. Since August 2021, Google Play will not serve apps that only have 32-bit binaries to devices compatible with 64-bit apps. This requirement does not apply to Android TV or Wear OS apps.\n",
      "\n",
      "Page Title: Vizio\n",
      "From the year 2016 onwards, Vizio launched its SmartCast across all television sets including apps such as Netflix, YouTube and Disney+.\n",
      "\n",
      "Page Title: George S. Patton\n",
      "In December 1944, the German army, under the command of German Field Marshal Gerd von Rundstedt, launched a last-ditch offensive across Belgium, Luxembourg, and northeastern France. On December 16, 1944, it massed 29 divisions totaling 250,000 men at a weak point in the Allied lines, and during the early stages of the ensuing Battle of the Bulge, made significant headway towards the Meuse River during a severe winter. Eisenhower called a meeting of all senior Allied commanders on the Western Front at a headquarters near Verdun on the morning of December 19 to plan strategy and a response to the German assault.\n",
      "\n",
      "Page Title: Los Pollos Hermanos\n",
      "In late 2019 the \"Breaking Bad Experience\" pop-up restaurant operated on 7100 Santa Monica Boulevard in West Hollywood, California, and included items reminiscent of Los Pollos Hermanos. A few days later, it was announced that delivery kitchen network Family Style Inc. partnered with Sony Pictures Consumer Products and began being offering Los Pollos Hermanos through Uber Eats in select markets, starting with Los Angeles. A pop-up location in Venice Beach, California also opened on October 24, 2019 for the premiere of \"\".\n",
      "\n",
      "Page Title: Milla Jovovich\n",
      "Jovovich returned to her role as Alice in the fifth installment of \"Resident Evil\" for \"\", which was released on September 14, 2012. She played an ambitious woman and the second wife of the leader of a motorcycle club in 2014's \"Cymbeline\", a film version of the eponymous play by William Shakespeare, and in 2015's \"Survivor\", she took on the role of a Diplomatic Security Service/Foreign Service officer at the US Embassy in London. Both films received a VOD release in North America, despite theatrical runs abroad. Jovovich made a cameo appearance reprising the role of villain Katinka in 2016's \"Zoolander 2\". \"\" (2016), the sixth and final film of the \"Resident Evil\" franchise, starred Jovovich as Alice as she continues her vengeance against Umbrella for the death of her allies and the catastrophe they have caused. \"Time Out\" in its review for the film noted: \"While the franchise has slackened into dependably dumb post-apocalyptic thrills, star Milla Jovovich has only gotten better, seasoning her long-legged athleticism with a commanding stare\". \"The Final Chapter\" was the highest-grossing film in the franchise, earning over US$312 million worldwide.\n",
      "\n",
      "Page Title: George S. Patton slapping incidents\n",
      "By mid-December, Eisenhower had been appointed Supreme Allied Commander in Europe and moved to England. As media attention surrounding the incident began to subside, McCloy told Patton he would indeed be eventually returning to combat command. Patton was briefly considered to lead the Seventh Army in Operation Dragoon, but Eisenhower felt his experience would be more useful in the Normandy campaign. Eisenhower and Marshall privately agreed that Patton would command a follow-on field army after Bradley's army conducted the initial invasion of Normandy; Bradley would then command the resulting army group. Patton was told on January 1, 1944 only that he would be relieved of command of the Seventh Army and moved to Europe. In his diary, he wrote that he would resign if he was not given command of a field army. On January 26, 1944, formally given command of a newly arrived unit, the Third United States Army, he went to the United Kingdom to prepare the unit's inexperienced soldiers for combat. This duty occupied Patton throughout early 1944.\n",
      "\n",
      "Page Title: Burger Chef\n",
      "On April 16, 2009, River West Brands dropped their petition for cancellation, and both parties agreed to pay their own attorneys' fees.\n",
      "\n",
      "Page Title: Günther von Kluge\n",
      "After a conference with Hitler and Rundstedt, Kluge issued an order to his Panzer units to halt on 24 May, from Dunkirk—by then the possible escape route for the British Expeditionary Force. The two-day respite allowed the Allies to consolidate their manpower around Dunkirk and prepare for an evacuation. On 5 June, at the commencement of \"Fall Rot\" (\"Case Red\"), the second phase of the invasion plan, Kluge's 4th Army helped achieve the first breakthrough at Amiens and reached the Seine River on 10 June. Kluge's command and Rommel's generalship throughout the invasion led to his promotion to \"generalfeldmarschall\" (field marshal) on 19 July.\n",
      "\n",
      "Page Title: Call of Duty: Black Ops\n",
      "In May 2009, publisher Activision was rumored to be looking for licensing regarding Vietnam War-era music which led to speculation that \"Call of Duty 7\" would be set in Vietnam. In May 2009, Treyarch employee David Kim revealed on his LinkedIn profile that he would work as a senior animator on \"Call of Duty 7\". In November 2009, only a few days before \"Modern Warfare 2\"s release, Activision officially announced a new \"Call of Duty\" title for 2010 through their third quarter financial call. In February 2010, a casting call for \"Call of Duty 7\" led to speculation that the game would be taking place during the Cold War era with some battles taking place in South Vietnam. On April 30, 2010, \"Black Ops\" was officially announced.\n",
      "\n",
      "Page Title: Resident Evil (film series)\n",
      "In the film, the viral outbreak reaches the surface and to contain the infection, Major Timothy Cain seals all exits to and from Raccoon City. Among the people trapped in the city are Jill Valentine and her partner Peyton Wells. After Alice awakens from her coma, she rescues Jill and Peyton from a group of Licker monsters. They are contacted by Dr. Charles Ashford, who directs them to an evacuation point in exchange for the rescue of his daughter Angela, trapped elsewhere in the city. Weapon Nemesis attacks the team after Cain commands it to kill all STARS (Special Tactics And Rescue Service) members. The team rescues Angela and makes its way to the evacuation helicopter guided by Umbrella mercenary Carlos Olivera. After Alice's confrontation with Cain and Nemesis leaves them dead, she and the team fly away from Raccoon City as it is destroyed by a nuclear missile. The helicopter crashes in the Arklay Mountains, and Alice is found by an Umbrella search team and taken to a research station. When Alice awakens, she displays extraordinary powers, and escapes with help from Jill and Carlos. As they drive away, Dr. Alexander Isaacs, a top-ranking Umbrella employee, reveals that Alice's escape is part of Umbrella's plan.\n",
      "\n",
      "Page Title: Chromecast\n",
      "Chromecast uses the multicast Domain Name System (mDNS) protocol to search for available devices on a Wi-Fi network. Chromecast previously used the Discovery and Launch (DIAL) protocol, which was co-developed by Netflix and YouTube.\n",
      "\n",
      "Page Title: Parks and Recreation (season 7)\n",
      "The seventh and final season of \"Parks and Recreation\" aired in the United States on the NBC television network from January 13, 2015 until February 24, 2015. The season consisted of 13 episodes. It stars Amy Poehler, Aziz Ansari, Nick Offerman, Aubrey Plaza, Chris Pratt, Adam Scott, Jim O'Heir, and Retta, with a supporting performance from Billy Eichner.\n",
      "\n",
      "Page Title: United States Army Central\n",
      "Before the advance, the 1st Division passed to the command of the III Corps. With three divisions, the 1st, 2d, and 32d, the III Corps occupied the American sector of the Coblenz bridgehead, the movement of the troops into position beginning at the scheduled hour, 13 December. The four bridges available for crossing the river within the Coblenz bridgehead were the pontoon bridge and railroad bridge at Coblenz, the railroad bridges at Engers and Remagen. On 13 December the advance began with the American khaki crossing the Rhine into advanced positions. On the same day the 42d Division passed to the command of the IV Corps, which, in support of the III Corps, continued its march to occupy the Kreise of Mayen, Ahrweiler, Adenau, and Cochem.\n",
      "\n",
      "Page Title: 36th Infantry Division (United States)\n",
      "In a grinding offensive, the division crossed the Meurthe River, breached the Ste. Marie Pass and burst into the Alsatian Plains. The enemy counterattacked, 13 December 1944, but the 36th held the perimeter of the Colmar Pocket. Two days later, the division was released from attachment to the French First Army, and returned to the control of VI Corps, now under Major General Edward H. Brooks, under the Seventh Army, commanded by Lieutenant General Alexander Patch. The German counterattacks out of the \"Colmar Pocket\" were so fierce, that at times, the field artillery was forced to fire over open sights at point blank range to stop them. On 20 December 1944, the division resumed the attack, advancing northward along the Rhine River to Mannheim meeting heavy resistance at Haguenau, Oberhöfen, and Wissembourg. In this action Company \"G\" of the 143rd Infantry received a Presidential Unit Citation. On 27 December 1944, the division was reassigned to Major General Frank W. Milburn's XXI Corps of the Seventh Army, and was pinched out and returned to Seventh Army reserve on 30 December 1944.\n",
      "\n",
      "Page Title: Call of Duty: World at War\n",
      "Call of Duty: World at War is a 2008 first-person shooter game developed by Treyarch and published by Activision. It was released for Microsoft Windows, the PlayStation 3, Wii and Xbox 360 in November 2008. It is the fifth main installment of the \"Call of Duty\" series and returns the setting to World War II. The game is also the first title in the \"Black Ops\" story line. \"World at War\" received ports featuring different storyline versions, while remaining in the World War II setting, for the and . It was the first game in the series to feature the zombies mode featured in later sequels. A Windows Mobile version was also made available by Glu Mobile.\n",
      "\n",
      "Page Title: Netflix\n",
      "In early June, Netflix hosted a first-ever week-long virtual event called “Geeked Week,” where it shared exclusive news, new trailers, cast appearances and more about upcoming genre titles like \"The Witcher\", \"The Cuphead Show!\", and \"The Sandman\".\n",
      "\n",
      "Page Title: George Patton IV\n",
      "Returning to the United States in 1954, Patton, now a captain, was initially assigned to West Point, but was quickly picked up as part of an exchange program and was sent to teach at the United States Naval Academy.\n",
      "\n",
      "Page Title: Google Play Games\n",
      "The Google Play Games service was introduced at the Google I/O 2013 Developer Conference, and the standalone Google Play Games mobile app was launched for Android on July 24, 2013. Andrew Webster of \"The Verge\" compared Google Play Games to Game Center, a similar gaming network for users of Apple Inc.'s own iOS operating system.\n",
      "\n",
      "Page Title: Copenhagen\n",
      "On 8 May 1945 Copenhagen was officially liberated by British troops commanded by Field Marshal Bernard Montgomery who supervised the surrender of 30,000 Germans situated around the capital.\n",
      "\n",
      "Page Title: Amazon Prime\n",
      "Prime memberships are available in 23 countries: Austria, Australia, Belgium, Brazil, Canada, China, France, Germany, India, Ireland, Italy, Japan, Luxembourg, Mexico, the Netherlands, Poland, Portugal, Saudi Arabia, Singapore, Spain, Sweden, Turkey, the UK, and the US.\n",
      "\n",
      "Page Title: Omaha Beach\n",
      "Coastal troop deployments, comprising five companies of infantry, were concentrated mostly at 15 strongpoints called \"Widerstandsnester\" (\"resistance nests\"), numbered WN-60 in the east to WN-74 near Vierville in the west, located primarily around the entrances to the draws and protected by minefields and wire. Positions within each strongpoint were interconnected by trenches and tunnels. As well as the basic weaponry of rifles and machine guns, more than 60 light artillery pieces were deployed at these strongpoints. The heaviest pieces were located in eight gun casemates and four open positions while the lighter guns were housed in 35 pillboxes. A further 18 anti-tank guns completed the disposition of artillery targeting the beach. Areas between the strongpoints were lightly manned with occasional trenches, rifle pits, and 85 machine-gun emplacements. No area of the beach was left uncovered, and the disposition of weapons meant that flanking fire could be brought to bear anywhere along the beach.\n",
      "\n",
      "Page Title: Nickelodeon Movies\n",
      "Nickelodeon Movies is the film production arm of American children's network Nickelodeon and the family film distribution label of Paramount Pictures launched on February 25, 1995 and based in Los Angeles, California.\n",
      "\n"
     ]
    }
   ],
   "source": [
    "# Now map texts while searching\n",
    "top_texts = [texts[i] for i in indices[0]]\n",
    "\n",
    "for t in top_texts:\n",
    "    print(t)\n",
    "    print()\n"
   ]
  }
 ],
 "metadata": {
  "kernelspec": {
   "display_name": "Python 3 (ipykernel)",
   "language": "python",
   "name": "python3"
  },
  "language_info": {
   "codemirror_mode": {
    "name": "ipython",
    "version": 3
   },
   "file_extension": ".py",
   "mimetype": "text/x-python",
   "name": "python",
   "nbconvert_exporter": "python",
   "pygments_lexer": "ipython3",
   "version": "3.12.5"
  }
 },
 "nbformat": 4,
 "nbformat_minor": 5
}
